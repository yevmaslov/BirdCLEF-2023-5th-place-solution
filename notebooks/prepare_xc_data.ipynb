{
 "cells": [
  {
   "cell_type": "code",
   "execution_count": null,
   "id": "c2b7346d-aedf-44b9-9a2d-17a8099a41e8",
   "metadata": {},
   "outputs": [],
   "source": [
    "import pandas as pd\n",
    "import sys\n",
    "sys.path.append('../src')\n",
    "from environment.utils import load_config, load_filepaths\n",
    "import soundfile as sf\n",
    "import os\n",
    "from tqdm.notebook import tqdm\n",
    "import librosa\n",
    "import soundfile as sf\n",
    "from pathlib import Path\n",
    "import numpy as np\n",
    "\n",
    "from pathlib import Path"
   ]
  },
  {
   "cell_type": "code",
   "execution_count": null,
   "id": "535fe342-5a74-45cb-89ce-c55128f00ec6",
   "metadata": {},
   "outputs": [],
   "source": [
    "filepaths = load_filepaths('../filepaths.yaml')"
   ]
  },
  {
   "cell_type": "code",
   "execution_count": null,
   "id": "c6ccd82f-b8b5-4f2e-b1f3-8a93f1dd9174",
   "metadata": {},
   "outputs": [],
   "source": [
    "metadata = pd.read_csv(filepaths.processed_dir / 'birdclef-2023_XenoCanto' / 'metadata.csv')\n",
    "metadata['filepath'] = metadata['filename'].apply(lambda x: filepaths.external_dir / 'birdclef-2023-xc' / 'mp3' / x.replace('.wav', '.mp3').replace('.ogg', '.mp3'))"
   ]
  },
  {
   "cell_type": "code",
   "execution_count": null,
   "id": "34056764-057a-4b5f-a711-ca3f43e1737c",
   "metadata": {},
   "outputs": [],
   "source": [
    "def get_path(fn):\n",
    "    fp1 = Path('../data/external/birdclef-2023-xc/birdclef-2023-xc-africa/mp3') / fn\n",
    "    fp2 = Path('../data/external/birdclef-2023-xc/birdclef-2023-xc-africa-1/mp3') / fn\n",
    "    fp3 = Path('../data/external/birdclef-2023-xc/birdclef-2023-xc-africa-2/mp3') / fn\n",
    "    fp4 = Path('../data/external/birdclef-2023-xc/birdclef-2023-xc-africa-4/mp3') / fn\n",
    "    fp5 = Path('../data/external/birdclef-2023-xc/birdclef-2023-xc-africa-5/mp3') / fn\n",
    "    fp6 = Path('../data/external/birdclef-2023-xc/birdclef-2023-xc-primary/mp3') / fn\n",
    "    fp7 = Path('../data/external/birdclef-2023-xc/birdclef-2023-xc-secondary') / fn\n",
    "\n",
    "    for fp in [fp1, fp2, fp3, fp4, fp5, fp6, fp7]:\n",
    "        if os.path.isfile(fp):\n",
    "            return fp\n",
    "        \n",
    "    return np.nan"
   ]
  },
  {
   "cell_type": "code",
   "execution_count": null,
   "id": "a473267b-ce42-4fa2-9d40-9ae3cc5d7ab3",
   "metadata": {},
   "outputs": [],
   "source": [
    "metadata['filepath'] = metadata['filename'].apply(lambda x: get_path(x.replace('.wav', '.mp3')))"
   ]
  },
  {
   "cell_type": "code",
   "execution_count": null,
   "id": "49707e14-61e7-4710-ac27-9e3f02f0ec6f",
   "metadata": {},
   "outputs": [],
   "source": [
    "for fp, primary_label, fn in tqdm(train_meta[['filepath', 'primary_label', 'filename']].values):\n",
    "    new_fp = filepaths.external_dir / 'birdclef-2023-xc' / 'wav' / fn.replace('.mp3', '.wav').replace('.ogg', '.wav')\n",
    "    y, _sr = sf.read(fp, dtype='float32')\n",
    "    y = librosa.to_mono(y)\n",
    "    if _sr != 32000:\n",
    "        y = librosa.resample(y, orig_sr=_sr, target_sr=32000)\n",
    "    sf.write(new_fp, y, samplerate=32000)"
   ]
  },
  {
   "cell_type": "code",
   "execution_count": null,
   "id": "12e950eb-1abb-49ea-beb6-bc9fb42be635",
   "metadata": {},
   "outputs": [],
   "source": []
  },
  {
   "cell_type": "code",
   "execution_count": null,
   "id": "bb870dd6-5f51-4e77-9d10-8b3bb74536f4",
   "metadata": {},
   "outputs": [],
   "source": []
  }
 ],
 "metadata": {
  "kernelspec": {
   "display_name": "Python 3 (ipykernel)",
   "language": "python",
   "name": "python3"
  },
  "language_info": {
   "codemirror_mode": {
    "name": "ipython",
    "version": 3
   },
   "file_extension": ".py",
   "mimetype": "text/x-python",
   "name": "python",
   "nbconvert_exporter": "python",
   "pygments_lexer": "ipython3",
   "version": "3.10.11"
  }
 },
 "nbformat": 4,
 "nbformat_minor": 5
}
